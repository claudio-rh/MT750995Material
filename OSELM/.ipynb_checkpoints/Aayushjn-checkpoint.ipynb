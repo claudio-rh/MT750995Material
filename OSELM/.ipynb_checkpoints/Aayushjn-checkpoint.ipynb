{
 "cells": [
  {
   "cell_type": "markdown",
   "id": "e932ac5a-84e1-4a4d-8736-4897974c21fe",
   "metadata": {},
   "source": [
    "Notebook for https://github.com/Aayushjn/OS-ELM\n",
    "INTENTAR PASAR ESTE CODIGO DE CLASIFICACIÓN A REGRESIÓN DE SER POSIBLE :/"
   ]
  },
  {
   "cell_type": "code",
   "execution_count": 2,
   "id": "9c004c13-bd9b-438c-b402-548f8f58e88f",
   "metadata": {},
   "outputs": [],
   "source": [
    "import numpy as np\n",
    "from implementations.elm import OS_ELM\n",
    "from pandas import read_csv\n",
    "from sklearn.model_selection import train_test_split\n",
    "from sklearn.preprocessing import LabelEncoder\n",
    "from tqdm import tqdm\n",
    "import matplotlib.pyplot as plt\n",
    "\n",
    "path = \"../datasets/\""
   ]
  },
  {
   "cell_type": "code",
   "execution_count": 3,
   "id": "23fe8a37-d0ca-414a-bc23-78889a3a23dc",
   "metadata": {},
   "outputs": [],
   "source": [
    "def soft_max(a):\n",
    "    c = np.max(a, axis=-1).reshape(-1, 1)\n",
    "    exp_a = np.exp(a - c)\n",
    "    sum_exp_a = np.sum(exp_a, axis=-1).reshape(-1, 1)\n",
    "    return exp_a / sum_exp_a"
   ]
  },
  {
   "cell_type": "code",
   "execution_count": 4,
   "id": "6cf17590-5d93-4955-bc90-423355355fbf",
   "metadata": {},
   "outputs": [],
   "source": [
    "n_input_nodes = 9\n",
    "n_hidden_nodes = 16\n",
    "n_output_nodes = 5\n",
    "\n",
    "dataset = \"hs.csv\""
   ]
  },
  {
   "cell_type": "code",
   "execution_count": 5,
   "id": "2f4fd0a4-6fd7-4c43-8303-e5277198f4ce",
   "metadata": {},
   "outputs": [
    {
     "name": "stderr",
     "output_type": "stream",
     "text": [
      "sequential training phase: 100%|███████████████████████████████████████████████| 16346/16346 [00:01<00:00, 9960.41it/s]\n"
     ]
    },
    {
     "name": "stdout",
     "output_type": "stream",
     "text": [
      "\n",
      "val_loss: 1.8435098294042729, val_accuracy: 11.353%\n",
      "\n",
      "val_loss: 1.8435355477535398, val_accuracy: 11.353%\n",
      "\n",
      "val_loss: 1.8435436414898123, val_accuracy: 11.353%\n",
      "\n",
      "val_loss: 1.8435478031413095, val_accuracy: 11.353%\n",
      "\n",
      "val_loss: 1.8435504759633075, val_accuracy: 11.353%\n",
      "\n",
      "val_loss: 1.8435522888603257, val_accuracy: 11.353%\n",
      "\n",
      "val_loss: 1.8435535928624787, val_accuracy: 11.353%\n",
      "\n",
      "val_loss: 1.843554547332087, val_accuracy: 11.353%\n",
      "\n",
      "val_loss: 1.843555294335622, val_accuracy: 11.353%\n",
      "\n",
      "val_loss: 1.8435558922814586, val_accuracy: 11.353%\n",
      "\n",
      "val_loss: 1.8435563855121826, val_accuracy: 11.353%\n",
      "\n",
      "val_loss: 1.8435567993183795, val_accuracy: 11.353%\n"
     ]
    },
    {
     "data": {
      "image/png": "[encoded data removed]",
      "text/plain": [
       "<Figure size 432x288 with 1 Axes>"
      ]
     },
     "metadata": {
      "needs_background": "light"
     },
     "output_type": "display_data"
    },
    {
     "ename": "NameError",
     "evalue": "name 'frequencies' is not defined",
     "output_type": "error",
     "traceback": [
      "\u001b[1;31m---------------------------------------------------------------------------\u001b[0m",
      "\u001b[1;31mNameError\u001b[0m                                 Traceback (most recent call last)",
      "\u001b[1;32m<ipython-input-5-de23ab9f6a36>\u001b[0m in \u001b[0;36m<module>\u001b[1;34m\u001b[0m\n\u001b[0;32m     84\u001b[0m \u001b[0mplt\u001b[0m\u001b[1;33m.\u001b[0m\u001b[0mshow\u001b[0m\u001b[1;33m(\u001b[0m\u001b[1;33m)\u001b[0m\u001b[1;33m\u001b[0m\u001b[1;33m\u001b[0m\u001b[0m\n\u001b[0;32m     85\u001b[0m \u001b[1;33m\u001b[0m\u001b[0m\n\u001b[1;32m---> 86\u001b[1;33m \u001b[0mprint\u001b[0m\u001b[1;33m(\u001b[0m\u001b[0mfrequencies\u001b[0m\u001b[1;33m)\u001b[0m\u001b[1;33m\u001b[0m\u001b[1;33m\u001b[0m\u001b[0m\n\u001b[0m",
      "\u001b[1;31mNameError\u001b[0m: name 'frequencies' is not defined"
     ]
    }
   ],
   "source": [
    "os_elm = OS_ELM(n_input_nodes=n_input_nodes,\n",
    "                n_hidden_nodes=n_hidden_nodes,\n",
    "                n_output_nodes=n_output_nodes)\n",
    "\n",
    "# Load data\n",
    "data = read_csv(path + dataset)\n",
    "# Encode classes to 0 - n_classes\n",
    "data['ocean_proximity'] = LabelEncoder().fit_transform(data['ocean_proximity'].astype('str'))\n",
    "# Split data to inputs and class labels\n",
    "x = data.iloc[:, :data.shape[1] - 1]\n",
    "t = data.iloc[:, data.shape[1] - 1]\n",
    "\n",
    "# Data normalization\n",
    "for val in x:\n",
    "    x[val] /= 500001\n",
    "\n",
    "x_train, x_test, t_train, t_test = train_test_split(x, t, train_size=0.8, test_size=0.2)\n",
    "\n",
    "# Divide the dataset into two parts:-\n",
    "#   (1) for the initial training phase\n",
    "#   (2) for the sequential training phase\n",
    "# NOTE: The number of training samples for the initial training phase\n",
    "# must be much greater than the number of the model's hidden nodes.\n",
    "# Here we assign int(1.5 * n_hidden_nodes) training samples\n",
    "# for the initial training phase.\n",
    "border = int(1.5 * n_hidden_nodes)\n",
    "x_train_init = x_train.values[:border]\n",
    "x_train_seq = x_train.values[border:]\n",
    "t_train_init = t_train.values[:border]\n",
    "t_train_seq = t_train.values[border:]\n",
    "\n",
    "# ========== Initial training phase ==========\n",
    "\n",
    "progress_bar = tqdm(total=len(x_train), desc='initial training phase')\n",
    "os_elm.init_train(x_train_init, t_train_init)\n",
    "progress_bar.update(len(x_train_init))\n",
    "\n",
    "batch_sizes = []\n",
    "accuracies = []\n",
    "losses = []\n",
    "\n",
    "for p in range(12):\n",
    "    batch_size = 2 ** p\n",
    "\n",
    "    # ========== Sequential training phase ==========\n",
    "    progress_bar.set_description('sequential training phase')\n",
    "    for i in range(0, len(x_train_seq), batch_size):\n",
    "        x_batch = x_train_seq[i: i + batch_size]\n",
    "        t_batch = t_train_seq[i: i + batch_size]\n",
    "        os_elm.seq_train(x_batch, t_batch)\n",
    "        progress_bar.update(len(x_batch))\n",
    "    progress_bar.close()\n",
    "\n",
    "    # Sample 'n' samples from the x_test\n",
    "    n = len(x_test.values)\n",
    "    x = x_test.values[:n]\n",
    "    t = t_test.values[:n]\n",
    "\n",
    "    y = os_elm.predict(x)\n",
    "    y = soft_max(y)\n",
    "\n",
    "    # Check the answers\n",
    "    for i in range(n):\n",
    "        max_ind = np.argmax(y.flatten()[i])\n",
    "        #print('======== sample index {} ========'.format(i))\n",
    "        #print('estimated answer: class {}'.format(max_ind))\n",
    "        #print('estimated probability: {}'.format(y[max_ind][i]))\n",
    "        #print('true answer: class {}'.format(t[i]))\n",
    "\n",
    "    # Evaluate 'loss' and 'accuracy' metrics for the model\n",
    "    [loss, accuracy] = os_elm.evaluate(x_test.values, t_test.values, metrics=['loss', 'accuracy'])\n",
    "    print('\\nval_loss: {}, val_accuracy: {:.3f}%'.format(loss, accuracy * 100))\n",
    "\n",
    "    batch_sizes.append(batch_size)\n",
    "    accuracies.append(accuracy)\n",
    "    losses.append(loss)\n",
    "\n",
    "plt.scatter(accuracies, batch_sizes)\n",
    "plt.plot(accuracies, batch_sizes)\n",
    "plt.scatter(losses, batch_sizes)\n",
    "plt.plot(losses, batch_sizes)\n",
    "plt.ylabel(\"Batch size\")\n",
    "plt.legend([\"Accuracy\", \"Loss\"], bbox_to_anchor=(0, 1.02, 1, 0.2), loc=\"lower left\", mode=\"expand\")\n",
    "plt.show()\n",
    "\n",
    "print(frequencies)"
   ]
  }
 ],
 "metadata": {
  "kernelspec": {
   "display_name": "Python 3",
   "language": "python",
   "name": "python3"
  },
  "language_info": {
   "codemirror_mode": {
    "name": "ipython",
    "version": 3
   },
   "file_extension": ".py",
   "mimetype": "text/x-python",
   "name": "python",
   "nbconvert_exporter": "python",
   "pygments_lexer": "ipython3",
   "version": "3.9.4"
  }
 },
 "nbformat": 4,
 "nbformat_minor": 5
}
