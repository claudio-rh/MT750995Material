{
 "cells": [
  {
   "cell_type": "markdown",
   "id": "6a01eedc-44a2-4f41-ac5f-938659bdb709",
   "metadata": {},
   "source": [
    "Notebook for https://github.com/Silence-Rain/OS_ELM"
   ]
  },
  {
   "cell_type": "code",
   "execution_count": 2,
   "id": "a393d9b8",
   "metadata": {},
   "outputs": [],
   "source": [
    "import numpy as np\n",
    "import pandas as pd\n",
    "from sklearn.model_selection import train_test_split\n",
    "import sys\n",
    "from sklearn.metrics import confusion_matrix\n",
    "#sys.path.append('/implementations')\n",
    "from implementations.OS_ELM import OS_ELM \n",
    "path = \"../datasets/\""
   ]
  },
  {
   "cell_type": "code",
   "execution_count": 3,
   "id": "dc34f85f-51c2-43ab-8601-c63a2650a0b4",
   "metadata": {},
   "outputs": [],
   "source": [
    "def SilenceRain_OSELM(hiddenN,inputN,train,test,label_index):\n",
    "    train_initial = train[:int(len(train)/3)]\n",
    "    train_seq = train[int(len(train)/3):]\n",
    "    elm = OS_ELM(hidden_neuron=hiddenN, input_neuron=inputN, id=dataset, norm=\"no\")\n",
    "    network = elm.fit_init(data=train_initial,label_index = label_index)\n",
    "    \n",
    "    batch = 100\n",
    "    init = 0\n",
    "    for i in range(len(train_seq)):\n",
    "        network = network.fit_train(data=train_seq[init:batch],label_index = label_index)\n",
    "        init = batch\n",
    "        batch = 2*batch\n",
    "        \n",
    "    res = network.predict(data=test)\n",
    "    return res\n",
    "\n",
    "def metrics(true,predicted):\n",
    "    CM = confusion_matrix(predicted, true)\n",
    "    TN = CM[0][0]\n",
    "    FN = CM[1][0]\n",
    "    TP = CM[1][1]\n",
    "    FP = CM[0][1]\n",
    "    \n",
    "    p = TP / (TP + FP)\n",
    "    r = TP / (TP + FN)\n",
    "    a = (TP + TN) / (TP + TN + FP + FN)\n",
    "    f1 = ( 2*( p*r )) / (p + r)\n",
    "    return p,r,a,f1"
   ]
  },
  {
   "cell_type": "code",
   "execution_count": 4,
   "id": "a8a20edb-de54-408c-993e-a7c2cb8cd543",
   "metadata": {},
   "outputs": [],
   "source": [
    "hidden = 200 #hidden neurons to use in the model"
   ]
  },
  {
   "cell_type": "code",
   "execution_count": 6,
   "id": "10164f4a-9cb8-42e3-9149-814c6d452f36",
   "metadata": {},
   "outputs": [
    {
     "name": "stdout",
     "output_type": "stream",
     "text": [
      "Precision = 0.0\n",
      "Recall = nan\n",
      "Accuracy = 0.538135593220339\n",
      "F1-Score = nan\n"
     ]
    },
    {
     "name": "stderr",
     "output_type": "stream",
     "text": [
      "<ipython-input-3-75fa790916ff>:25: RuntimeWarning: invalid value encountered in longlong_scalars\n",
      "  r = TP / (TP + FN)\n"
     ]
    }
   ],
   "source": [
    "#ABALONE DATASET\n",
    "dataset = \"Abalone.csv\"\n",
    "\n",
    "raw = pd.read_csv(path + dataset, header=0, skiprows=[1])\n",
    "\n",
    "map = {'M':0,'F':1,'I':2}\n",
    "raw = raw.replace({'sex':map})\n",
    "datos = raw.to_numpy()\n",
    "col = 8\n",
    "\n",
    "train, test = train_test_split(datos)\n",
    "\n",
    "y_labels = test[:,col].astype(int)\n",
    "test = np.delete(test, col, 1)\n",
    "\n",
    "res = SilenceRain_OSELM(hidden,datos.shape[1] - 1,train,test,col)\n",
    "#print(np.unique(y_labels),raw['sex'].unique())\n",
    "\n",
    "precision, recall, accuracy, f1 = metrics(y_labels,res)\n",
    "print(\"Precision =\",precision)\n",
    "print(\"Recall =\",recall)\n",
    "print(\"Accuracy =\",accuracy)\n",
    "print(\"F1-Score =\",f1)"
   ]
  },
  {
   "cell_type": "code",
   "execution_count": 16,
   "id": "f2fcac9a-dfa4-4da1-948b-6206bfe22a90",
   "metadata": {},
   "outputs": [
    {
     "data": {
      "text/html": [
       "<div>\n",
       "<style scoped>\n",
       "    .dataframe tbody tr th:only-of-type {\n",
       "        vertical-align: middle;\n",
       "    }\n",
       "\n",
       "    .dataframe tbody tr th {\n",
       "        vertical-align: top;\n",
       "    }\n",
       "\n",
       "    .dataframe thead th {\n",
       "        text-align: right;\n",
       "    }\n",
       "</style>\n",
       "<table border=\"1\" class=\"dataframe\">\n",
       "  <thead>\n",
       "    <tr style=\"text-align: right;\">\n",
       "      <th></th>\n",
       "      <th>sepal_length</th>\n",
       "      <th>sepal_width</th>\n",
       "      <th>petal_length</th>\n",
       "      <th>petal_width</th>\n",
       "      <th>species</th>\n",
       "    </tr>\n",
       "  </thead>\n",
       "  <tbody>\n",
       "    <tr>\n",
       "      <th>0</th>\n",
       "      <td>4.9</td>\n",
       "      <td>3.0</td>\n",
       "      <td>1.4</td>\n",
       "      <td>0.2</td>\n",
       "      <td>0</td>\n",
       "    </tr>\n",
       "    <tr>\n",
       "      <th>1</th>\n",
       "      <td>4.7</td>\n",
       "      <td>3.2</td>\n",
       "      <td>1.3</td>\n",
       "      <td>0.2</td>\n",
       "      <td>0</td>\n",
       "    </tr>\n",
       "    <tr>\n",
       "      <th>2</th>\n",
       "      <td>4.6</td>\n",
       "      <td>3.1</td>\n",
       "      <td>1.5</td>\n",
       "      <td>0.2</td>\n",
       "      <td>0</td>\n",
       "    </tr>\n",
       "    <tr>\n",
       "      <th>3</th>\n",
       "      <td>5.0</td>\n",
       "      <td>3.6</td>\n",
       "      <td>1.4</td>\n",
       "      <td>0.2</td>\n",
       "      <td>0</td>\n",
       "    </tr>\n",
       "    <tr>\n",
       "      <th>4</th>\n",
       "      <td>5.4</td>\n",
       "      <td>3.9</td>\n",
       "      <td>1.7</td>\n",
       "      <td>0.4</td>\n",
       "      <td>0</td>\n",
       "    </tr>\n",
       "  </tbody>\n",
       "</table>\n",
       "</div>"
      ],
      "text/plain": [
       "   sepal_length  sepal_width  petal_length  petal_width  species\n",
       "0           4.9          3.0           1.4          0.2        0\n",
       "1           4.7          3.2           1.3          0.2        0\n",
       "2           4.6          3.1           1.5          0.2        0\n",
       "3           5.0          3.6           1.4          0.2        0\n",
       "4           5.4          3.9           1.7          0.4        0"
      ]
     },
     "metadata": {},
     "output_type": "display_data"
    },
    {
     "ename": "IndexError",
     "evalue": "index 6 is out of bounds for axis 0 with size 3",
     "output_type": "error",
     "traceback": [
      "\u001b[1;31m---------------------------------------------------------------------------\u001b[0m",
      "\u001b[1;31mIndexError\u001b[0m                                Traceback (most recent call last)",
      "\u001b[1;32m<ipython-input-16-fa328508d9e4>\u001b[0m in \u001b[0;36m<module>\u001b[1;34m\u001b[0m\n\u001b[0;32m     15\u001b[0m \u001b[0mtest\u001b[0m \u001b[1;33m=\u001b[0m \u001b[0mnp\u001b[0m\u001b[1;33m.\u001b[0m\u001b[0mdelete\u001b[0m\u001b[1;33m(\u001b[0m\u001b[0mtest\u001b[0m\u001b[1;33m,\u001b[0m \u001b[0mcol\u001b[0m\u001b[1;33m,\u001b[0m \u001b[1;36m1\u001b[0m\u001b[1;33m)\u001b[0m\u001b[1;33m\u001b[0m\u001b[1;33m\u001b[0m\u001b[0m\n\u001b[0;32m     16\u001b[0m \u001b[1;33m\u001b[0m\u001b[0m\n\u001b[1;32m---> 17\u001b[1;33m \u001b[0mres\u001b[0m \u001b[1;33m=\u001b[0m \u001b[0mSilenceRain_OSELM\u001b[0m\u001b[1;33m(\u001b[0m\u001b[0mhidden\u001b[0m\u001b[1;33m,\u001b[0m\u001b[0mdatos\u001b[0m\u001b[1;33m.\u001b[0m\u001b[0mshape\u001b[0m\u001b[1;33m[\u001b[0m\u001b[1;36m1\u001b[0m\u001b[1;33m]\u001b[0m \u001b[1;33m-\u001b[0m \u001b[1;36m1\u001b[0m\u001b[1;33m,\u001b[0m\u001b[0mtrain\u001b[0m\u001b[1;33m,\u001b[0m\u001b[0mtest\u001b[0m\u001b[1;33m,\u001b[0m\u001b[0mcol\u001b[0m\u001b[1;33m)\u001b[0m\u001b[1;33m\u001b[0m\u001b[1;33m\u001b[0m\u001b[0m\n\u001b[0m\u001b[0;32m     18\u001b[0m \u001b[1;33m\u001b[0m\u001b[0m\n\u001b[0;32m     19\u001b[0m \u001b[1;33m\u001b[0m\u001b[0m\n",
      "\u001b[1;32m<ipython-input-3-75fa790916ff>\u001b[0m in \u001b[0;36mSilenceRain_OSELM\u001b[1;34m(hiddenN, inputN, train, test, label_index)\u001b[0m\n\u001b[0;32m      8\u001b[0m     \u001b[0minit\u001b[0m \u001b[1;33m=\u001b[0m \u001b[1;36m0\u001b[0m\u001b[1;33m\u001b[0m\u001b[1;33m\u001b[0m\u001b[0m\n\u001b[0;32m      9\u001b[0m     \u001b[1;32mfor\u001b[0m \u001b[0mi\u001b[0m \u001b[1;32min\u001b[0m \u001b[0mrange\u001b[0m\u001b[1;33m(\u001b[0m\u001b[0mlen\u001b[0m\u001b[1;33m(\u001b[0m\u001b[0mtrain_seq\u001b[0m\u001b[1;33m)\u001b[0m\u001b[1;33m)\u001b[0m\u001b[1;33m:\u001b[0m\u001b[1;33m\u001b[0m\u001b[1;33m\u001b[0m\u001b[0m\n\u001b[1;32m---> 10\u001b[1;33m         \u001b[0mnetwork\u001b[0m \u001b[1;33m=\u001b[0m \u001b[0mnetwork\u001b[0m\u001b[1;33m.\u001b[0m\u001b[0mfit_train\u001b[0m\u001b[1;33m(\u001b[0m\u001b[0mdata\u001b[0m\u001b[1;33m=\u001b[0m\u001b[0mtrain_seq\u001b[0m\u001b[1;33m[\u001b[0m\u001b[0minit\u001b[0m\u001b[1;33m:\u001b[0m\u001b[0mbatch\u001b[0m\u001b[1;33m]\u001b[0m\u001b[1;33m,\u001b[0m\u001b[0mlabel_index\u001b[0m \u001b[1;33m=\u001b[0m \u001b[0mlabel_index\u001b[0m\u001b[1;33m)\u001b[0m\u001b[1;33m\u001b[0m\u001b[1;33m\u001b[0m\u001b[0m\n\u001b[0m\u001b[0;32m     11\u001b[0m         \u001b[0minit\u001b[0m \u001b[1;33m=\u001b[0m \u001b[0mbatch\u001b[0m\u001b[1;33m\u001b[0m\u001b[1;33m\u001b[0m\u001b[0m\n\u001b[0;32m     12\u001b[0m         \u001b[0mbatch\u001b[0m \u001b[1;33m=\u001b[0m \u001b[1;36m2\u001b[0m\u001b[1;33m*\u001b[0m\u001b[0mbatch\u001b[0m\u001b[1;33m\u001b[0m\u001b[1;33m\u001b[0m\u001b[0m\n",
      "\u001b[1;32m~\\Desktop\\Memoria\\MT750995Material\\OSELM\\implementations\\OS_ELM.py\u001b[0m in \u001b[0;36mfit_train\u001b[1;34m(self, data, label_index)\u001b[0m\n\u001b[0;32m    118\u001b[0m                         \u001b[1;31m# 处理样本标签\u001b[0m\u001b[1;33m\u001b[0m\u001b[1;33m\u001b[0m\u001b[1;33m\u001b[0m\u001b[0m\n\u001b[0;32m    119\u001b[0m                         \u001b[0mb\u001b[0m \u001b[1;33m=\u001b[0m \u001b[0mint\u001b[0m\u001b[1;33m(\u001b[0m\u001b[0mrow\u001b[0m\u001b[1;33m[\u001b[0m\u001b[1;36m0\u001b[0m\u001b[1;33m]\u001b[0m\u001b[1;33m)\u001b[0m\u001b[1;33m\u001b[0m\u001b[1;33m\u001b[0m\u001b[0m\n\u001b[1;32m--> 120\u001b[1;33m                         \u001b[0mTn\u001b[0m\u001b[1;33m[\u001b[0m\u001b[1;36m0\u001b[0m\u001b[1;33m]\u001b[0m\u001b[1;33m[\u001b[0m\u001b[0mb\u001b[0m \u001b[1;33m-\u001b[0m \u001b[0mself\u001b[0m\u001b[1;33m.\u001b[0m\u001b[0mran\u001b[0m\u001b[1;33m[\u001b[0m\u001b[1;36m1\u001b[0m\u001b[1;33m]\u001b[0m\u001b[1;33m]\u001b[0m \u001b[1;33m=\u001b[0m \u001b[1;36m1\u001b[0m\u001b[1;33m\u001b[0m\u001b[1;33m\u001b[0m\u001b[0m\n\u001b[0m\u001b[0;32m    121\u001b[0m                         \u001b[0mTn\u001b[0m \u001b[1;33m=\u001b[0m \u001b[0mTn\u001b[0m \u001b[1;33m*\u001b[0m \u001b[1;36m2\u001b[0m \u001b[1;33m-\u001b[0m \u001b[1;36m1\u001b[0m\u001b[1;33m\u001b[0m\u001b[1;33m\u001b[0m\u001b[0m\n\u001b[0;32m    122\u001b[0m                         \u001b[1;31m# 获取特征数据\u001b[0m\u001b[1;33m\u001b[0m\u001b[1;33m\u001b[0m\u001b[1;33m\u001b[0m\u001b[0m\n",
      "\u001b[1;31mIndexError\u001b[0m: index 6 is out of bounds for axis 0 with size 3"
     ]
    }
   ],
   "source": [
    "# IRIS DATASET\n",
    "\n",
    "dataset = \"iris.csv\"\n",
    "raw = pd.read_csv(path + dataset, header=0, skiprows=[1])\n",
    "raw.species.unique()\n",
    "map = {'setosa':0,'versicolor':1,'virginica':2}\n",
    "raw = raw.replace({'species':map})\n",
    "display(raw.head(5))\n",
    "\n",
    "col = 4\n",
    "datos = raw.to_numpy()\n",
    "train, test = train_test_split(datos)\n",
    "\n",
    "y_labels = test[:,col].astype(int)\n",
    "test = np.delete(test, col, 1)\n",
    "\n",
    "res = SilenceRain_OSELM(hidden,datos.shape[1] - 1,train,test,col)\n",
    "\n",
    "\n",
    "metrics(y_labels,res)\n",
    "\n"
   ]
  }
 ],
 "metadata": {
  "kernelspec": {
   "display_name": "Python 3",
   "language": "python",
   "name": "python3"
  },
  "language_info": {
   "codemirror_mode": {
    "name": "ipython",
    "version": 3
   },
   "file_extension": ".py",
   "mimetype": "text/x-python",
   "name": "python",
   "nbconvert_exporter": "python",
   "pygments_lexer": "ipython3",
   "version": "3.9.4"
  }
 },
 "nbformat": 4,
 "nbformat_minor": 5
}
