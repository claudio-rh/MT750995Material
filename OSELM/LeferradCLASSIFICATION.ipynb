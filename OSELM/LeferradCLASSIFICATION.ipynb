{
 "cells": [
  {
   "cell_type": "markdown",
   "id": "1390968e-13da-4a09-9ff3-24479a41125f",
   "metadata": {},
   "source": [
    "Notebook for https://github.com/leferrad/pyoselm"
   ]
  },
  {
   "cell_type": "code",
   "execution_count": 1,
   "id": "8cb9cf73-6c4b-45f2-8a20-aca514ba4c6b",
   "metadata": {},
   "outputs": [],
   "source": [
    "from pyoselm import OSELMRegressor, OSELMClassifier\n",
    "from sklearn.datasets import load_digits, make_regression \n",
    "from sklearn.model_selection import train_test_split\n",
    "\n",
    "\n",
    "\n",
    "import seaborn as sns\n",
    "from sklearn.metrics import confusion_matrix\n",
    "\n",
    "import math\n",
    "\n",
    "import numpy as np\n",
    "import pandas as pd\n",
    "from matplotlib import pyplot as plt\n",
    "import warnings\n",
    "warnings.filterwarnings('ignore')"
   ]
  },
  {
   "cell_type": "code",
   "execution_count": 9,
   "id": "abfb2300-8161-4b96-a2b9-bdd6f306ccdc",
   "metadata": {},
   "outputs": [
    {
     "name": "stdout",
     "output_type": "stream",
     "text": [
      "Train score of total: 0.7902777777777777\n",
      "Test score of total: 0.7569060773480663\n"
     ]
    },
    {
     "data": {
      "image/png": "[encoded data removed]",
      "text/plain": [
       "<Figure size 432x288 with 2 Axes>"
      ]
     },
     "metadata": {
      "needs_background": "light"
     },
     "output_type": "display_data"
    }
   ],
   "source": [
    "oselmc = OSELMClassifier(n_hidden=20, activation_func='sigmoid', random_state=123)\n",
    "# Data\n",
    "X, y = load_digits(n_class=5, return_X_y=True) \n",
    "X_train, X_test, y_train, y_test = train_test_split(X, y, test_size=0.2, random_state=123)\n",
    "\n",
    "# Sequential learning\n",
    "# The first batch of data must have the same size as n_hidden to achieve the first phase (boosting)\n",
    "batches_x = [X_train[:oselmc.n_hidden]] + [[x_i] for x_i in X_train[oselmc.n_hidden:]]\n",
    "batches_y = [y_train[:oselmc.n_hidden]] + [[y_i] for y_i in y_train[oselmc.n_hidden:]]\n",
    "\n",
    "for b_x, b_y in zip(batches_x, batches_y):\n",
    "    oselmc.fit(b_x, b_y)\n",
    "\n",
    "y_pred = oselmc.predict(X_test)\n",
    "cm = confusion_matrix(y_test, y_pred)\n",
    "sns.heatmap(cm, annot=True)\n",
    "print(\"Train score of total: %s\" % str(oselmc.score(X_train, y_train)))\n",
    "print(\"Test score of total: %s\" % str(oselmc.score(X_test, y_test)))"
   ]
  },
  {
   "cell_type": "code",
   "execution_count": 7,
   "id": "042511c8-fa28-4a35-b7d8-9c0707eb3f50",
   "metadata": {},
   "outputs": [],
   "source": [
    "def metrics(true,predicted):\n",
    "    CM = confusion_matrix(predicted, true)\n",
    "    TN = CM[0][0]\n",
    "    FN = CM[1][0]\n",
    "    TP = CM[1][1]\n",
    "    FP = CM[0][1]\n",
    "    \n",
    "    p = TP / (TP + FP)\n",
    "    r = TP / (TP + FN)\n",
    "    a = (TP + TN) / (TP + TN + FP + FN)\n",
    "    f1 = ( 2*( p*r )) / (p + r)\n",
    "    print(\"Precision =\",p)\n",
    "    print(\"Recall =\",r)\n",
    "    print(\"Accuracy =\",a)\n",
    "    print(\"F1 =\",f1)\n",
    "\n",
    "\n",
    "def LeferradOSELM(hidden,X,y):\n",
    "    oselmc = OSELMClassifier(n_hidden=100, activation_func='sigmoid', random_state=123)\n",
    "    X_train, X_test, y_train, y_test = train_test_split(X, y, test_size=0.2, random_state=123)\n",
    "\n",
    "    # Sequential learning\n",
    "    # The first batch of data must have the same size as n_hidden to achieve the first phase (boosting)\n",
    "    batches_x = [X_train[:oselmc.n_hidden]] + [[x_i] for x_i in X_train[oselmc.n_hidden:]]\n",
    "    batches_y = [y_train[:oselmc.n_hidden]] + [[y_i] for y_i in y_train[oselmc.n_hidden:]]\n",
    "\n",
    "    for b_x, b_y in zip(batches_x, batches_y):\n",
    "        oselmc.fit(b_x, b_y)\n",
    "\n",
    "    y_pred = oselmc.predict(X_test)\n",
    "    cm = confusion_matrix(y_test, y_pred)\n",
    "    sns.heatmap(cm, annot=True)\n",
    "    metrics(y_test,y_pred)\n",
    "    #print(\"Train score of total: %s\" % str(oselmc.score(X_train, y_train)))\n",
    "    #print(\"Test score of total: %s\" % str(oselmc.score(X_test, y_test)))\n",
    "\n",
    "    "
   ]
  },
  {
   "cell_type": "code",
   "execution_count": 3,
   "id": "e1227f42-c5f7-46ff-818e-ede47bf996ab",
   "metadata": {},
   "outputs": [],
   "source": [
    "path = \"../datasets/\""
   ]
  },
  {
   "cell_type": "code",
   "execution_count": 8,
   "id": "6d7e436a-856f-40bb-83fb-bea19654dce0",
   "metadata": {},
   "outputs": [
    {
     "data": {
      "text/html": [
       "<div>\n",
       "<style scoped>\n",
       "    .dataframe tbody tr th:only-of-type {\n",
       "        vertical-align: middle;\n",
       "    }\n",
       "\n",
       "    .dataframe tbody tr th {\n",
       "        vertical-align: top;\n",
       "    }\n",
       "\n",
       "    .dataframe thead th {\n",
       "        text-align: right;\n",
       "    }\n",
       "</style>\n",
       "<table border=\"1\" class=\"dataframe\">\n",
       "  <thead>\n",
       "    <tr style=\"text-align: right;\">\n",
       "      <th></th>\n",
       "      <th>length</th>\n",
       "      <th>diameter</th>\n",
       "      <th>height</th>\n",
       "      <th>weight.w</th>\n",
       "      <th>weight.s</th>\n",
       "      <th>weight.v</th>\n",
       "      <th>weight.sh</th>\n",
       "      <th>rings</th>\n",
       "      <th>sex</th>\n",
       "    </tr>\n",
       "  </thead>\n",
       "  <tbody>\n",
       "    <tr>\n",
       "      <th>0</th>\n",
       "      <td>0.350</td>\n",
       "      <td>0.265</td>\n",
       "      <td>0.090</td>\n",
       "      <td>0.2255</td>\n",
       "      <td>0.0995</td>\n",
       "      <td>0.0485</td>\n",
       "      <td>0.070</td>\n",
       "      <td>7</td>\n",
       "      <td>0</td>\n",
       "    </tr>\n",
       "    <tr>\n",
       "      <th>1</th>\n",
       "      <td>0.530</td>\n",
       "      <td>0.420</td>\n",
       "      <td>0.135</td>\n",
       "      <td>0.6770</td>\n",
       "      <td>0.2565</td>\n",
       "      <td>0.1415</td>\n",
       "      <td>0.210</td>\n",
       "      <td>9</td>\n",
       "      <td>1</td>\n",
       "    </tr>\n",
       "    <tr>\n",
       "      <th>2</th>\n",
       "      <td>0.440</td>\n",
       "      <td>0.365</td>\n",
       "      <td>0.125</td>\n",
       "      <td>0.5160</td>\n",
       "      <td>0.2155</td>\n",
       "      <td>0.1140</td>\n",
       "      <td>0.155</td>\n",
       "      <td>10</td>\n",
       "      <td>0</td>\n",
       "    </tr>\n",
       "    <tr>\n",
       "      <th>3</th>\n",
       "      <td>0.330</td>\n",
       "      <td>0.255</td>\n",
       "      <td>0.080</td>\n",
       "      <td>0.2050</td>\n",
       "      <td>0.0895</td>\n",
       "      <td>0.0395</td>\n",
       "      <td>0.055</td>\n",
       "      <td>7</td>\n",
       "      <td>2</td>\n",
       "    </tr>\n",
       "    <tr>\n",
       "      <th>4</th>\n",
       "      <td>0.425</td>\n",
       "      <td>0.300</td>\n",
       "      <td>0.095</td>\n",
       "      <td>0.3515</td>\n",
       "      <td>0.1410</td>\n",
       "      <td>0.0775</td>\n",
       "      <td>0.120</td>\n",
       "      <td>8</td>\n",
       "      <td>2</td>\n",
       "    </tr>\n",
       "  </tbody>\n",
       "</table>\n",
       "</div>"
      ],
      "text/plain": [
       "   length  diameter  height  weight.w  weight.s  weight.v  weight.sh  rings  \\\n",
       "0   0.350     0.265   0.090    0.2255    0.0995    0.0485      0.070      7   \n",
       "1   0.530     0.420   0.135    0.6770    0.2565    0.1415      0.210      9   \n",
       "2   0.440     0.365   0.125    0.5160    0.2155    0.1140      0.155     10   \n",
       "3   0.330     0.255   0.080    0.2050    0.0895    0.0395      0.055      7   \n",
       "4   0.425     0.300   0.095    0.3515    0.1410    0.0775      0.120      8   \n",
       "\n",
       "   sex  \n",
       "0    0  \n",
       "1    1  \n",
       "2    0  \n",
       "3    2  \n",
       "4    2  "
      ]
     },
     "metadata": {},
     "output_type": "display_data"
    },
    {
     "name": "stdout",
     "output_type": "stream",
     "text": [
      "Precision = 0.4688995215311005\n",
      "Recall = 0.5130890052356021\n",
      "Accuracy = 0.5612903225806452\n",
      "F1 = 0.49\n"
     ]
    },
    {
     "data": {
      "image/png": "[encoded data removed]",
      "text/plain": [
       "<Figure size 432x288 with 2 Axes>"
      ]
     },
     "metadata": {
      "needs_background": "light"
     },
     "output_type": "display_data"
    }
   ],
   "source": [
    "#ABALONE DATASET\n",
    "dataset = \"Abalone.csv\"\n",
    "raw = pd.read_csv(path + dataset, header=0, skiprows=[1])\n",
    "map = {'M':0,'F':1,'I':2}\n",
    "raw = raw.replace({'sex':map})\n",
    "display(raw.head(5))\n",
    "y = raw[\"sex\"].to_numpy()\n",
    "raw.drop(['sex'],inplace=True,axis=1)\n",
    "X = raw.to_numpy()\n",
    "\n",
    "LeferradOSELM(50,X,y)\n",
    "\n"
   ]
  },
  {
   "cell_type": "code",
   "execution_count": 9,
   "id": "5b398837-68eb-4931-9dcd-5a3f00aad0c5",
   "metadata": {},
   "outputs": [
    {
     "data": {
      "text/html": [
       "<div>\n",
       "<style scoped>\n",
       "    .dataframe tbody tr th:only-of-type {\n",
       "        vertical-align: middle;\n",
       "    }\n",
       "\n",
       "    .dataframe tbody tr th {\n",
       "        vertical-align: top;\n",
       "    }\n",
       "\n",
       "    .dataframe thead th {\n",
       "        text-align: right;\n",
       "    }\n",
       "</style>\n",
       "<table border=\"1\" class=\"dataframe\">\n",
       "  <thead>\n",
       "    <tr style=\"text-align: right;\">\n",
       "      <th></th>\n",
       "      <th>sepal_length</th>\n",
       "      <th>sepal_width</th>\n",
       "      <th>petal_length</th>\n",
       "      <th>petal_width</th>\n",
       "      <th>species</th>\n",
       "    </tr>\n",
       "  </thead>\n",
       "  <tbody>\n",
       "    <tr>\n",
       "      <th>0</th>\n",
       "      <td>4.9</td>\n",
       "      <td>3.0</td>\n",
       "      <td>1.4</td>\n",
       "      <td>0.2</td>\n",
       "      <td>0</td>\n",
       "    </tr>\n",
       "    <tr>\n",
       "      <th>1</th>\n",
       "      <td>4.7</td>\n",
       "      <td>3.2</td>\n",
       "      <td>1.3</td>\n",
       "      <td>0.2</td>\n",
       "      <td>0</td>\n",
       "    </tr>\n",
       "    <tr>\n",
       "      <th>2</th>\n",
       "      <td>4.6</td>\n",
       "      <td>3.1</td>\n",
       "      <td>1.5</td>\n",
       "      <td>0.2</td>\n",
       "      <td>0</td>\n",
       "    </tr>\n",
       "    <tr>\n",
       "      <th>3</th>\n",
       "      <td>5.0</td>\n",
       "      <td>3.6</td>\n",
       "      <td>1.4</td>\n",
       "      <td>0.2</td>\n",
       "      <td>0</td>\n",
       "    </tr>\n",
       "    <tr>\n",
       "      <th>4</th>\n",
       "      <td>5.4</td>\n",
       "      <td>3.9</td>\n",
       "      <td>1.7</td>\n",
       "      <td>0.4</td>\n",
       "      <td>0</td>\n",
       "    </tr>\n",
       "  </tbody>\n",
       "</table>\n",
       "</div>"
      ],
      "text/plain": [
       "   sepal_length  sepal_width  petal_length  petal_width  species\n",
       "0           4.9          3.0           1.4          0.2        0\n",
       "1           4.7          3.2           1.3          0.2        0\n",
       "2           4.6          3.1           1.5          0.2        0\n",
       "3           5.0          3.6           1.4          0.2        0\n",
       "4           5.4          3.9           1.7          0.4        0"
      ]
     },
     "metadata": {},
     "output_type": "display_data"
    },
    {
     "name": "stdout",
     "output_type": "stream",
     "text": [
      "Precision = 1.0\n",
      "Recall = 0.8571428571428571\n",
      "Accuracy = 0.9411764705882353\n",
      "F1 = 0.923076923076923\n"
     ]
    },
    {
     "data": {
      "image/png": "[encoded data removed]",
      "text/plain": [
       "<Figure size 432x288 with 2 Axes>"
      ]
     },
     "metadata": {
      "needs_background": "light"
     },
     "output_type": "display_data"
    }
   ],
   "source": [
    "#IRIS DATASET\n",
    "dataset = \"iris.csv\"\n",
    "raw = pd.read_csv(path + dataset, header=0, skiprows=[1])\n",
    "raw.species.unique()\n",
    "map = {'setosa':0,'versicolor':1,'virginica':2}\n",
    "raw = raw.replace({'species':map})\n",
    "display(raw.head(5))\n",
    "y = raw[\"species\"].to_numpy()\n",
    "raw.drop(['species'],inplace=True,axis=1)\n",
    "X = raw.to_numpy()\n",
    "\n",
    "LeferradOSELM(50,X,y)"
   ]
  },
  {
   "cell_type": "code",
   "execution_count": 10,
   "id": "025f820a-26ca-42dd-a1e7-43423d3bc690",
   "metadata": {},
   "outputs": [
    {
     "data": {
      "text/html": [
       "<div>\n",
       "<style scoped>\n",
       "    .dataframe tbody tr th:only-of-type {\n",
       "        vertical-align: middle;\n",
       "    }\n",
       "\n",
       "    .dataframe tbody tr th {\n",
       "        vertical-align: top;\n",
       "    }\n",
       "\n",
       "    .dataframe thead th {\n",
       "        text-align: right;\n",
       "    }\n",
       "</style>\n",
       "<table border=\"1\" class=\"dataframe\">\n",
       "  <thead>\n",
       "    <tr style=\"text-align: right;\">\n",
       "      <th></th>\n",
       "      <th>longitude</th>\n",
       "      <th>latitude</th>\n",
       "      <th>housing_median_age</th>\n",
       "      <th>total_rooms</th>\n",
       "      <th>total_bedrooms</th>\n",
       "      <th>population</th>\n",
       "      <th>households</th>\n",
       "      <th>median_income</th>\n",
       "      <th>median_house_value</th>\n",
       "      <th>ocean_proximity</th>\n",
       "    </tr>\n",
       "  </thead>\n",
       "  <tbody>\n",
       "    <tr>\n",
       "      <th>0</th>\n",
       "      <td>-122.22</td>\n",
       "      <td>37.86</td>\n",
       "      <td>21.0</td>\n",
       "      <td>7099.0</td>\n",
       "      <td>1106.0</td>\n",
       "      <td>2401.0</td>\n",
       "      <td>1138.0</td>\n",
       "      <td>8.3014</td>\n",
       "      <td>358500.0</td>\n",
       "      <td>0</td>\n",
       "    </tr>\n",
       "    <tr>\n",
       "      <th>1</th>\n",
       "      <td>-122.24</td>\n",
       "      <td>37.85</td>\n",
       "      <td>52.0</td>\n",
       "      <td>1467.0</td>\n",
       "      <td>190.0</td>\n",
       "      <td>496.0</td>\n",
       "      <td>177.0</td>\n",
       "      <td>7.2574</td>\n",
       "      <td>352100.0</td>\n",
       "      <td>0</td>\n",
       "    </tr>\n",
       "    <tr>\n",
       "      <th>2</th>\n",
       "      <td>-122.25</td>\n",
       "      <td>37.85</td>\n",
       "      <td>52.0</td>\n",
       "      <td>1274.0</td>\n",
       "      <td>235.0</td>\n",
       "      <td>558.0</td>\n",
       "      <td>219.0</td>\n",
       "      <td>5.6431</td>\n",
       "      <td>341300.0</td>\n",
       "      <td>0</td>\n",
       "    </tr>\n",
       "    <tr>\n",
       "      <th>3</th>\n",
       "      <td>-122.25</td>\n",
       "      <td>37.85</td>\n",
       "      <td>52.0</td>\n",
       "      <td>1627.0</td>\n",
       "      <td>280.0</td>\n",
       "      <td>565.0</td>\n",
       "      <td>259.0</td>\n",
       "      <td>3.8462</td>\n",
       "      <td>342200.0</td>\n",
       "      <td>0</td>\n",
       "    </tr>\n",
       "    <tr>\n",
       "      <th>4</th>\n",
       "      <td>-122.25</td>\n",
       "      <td>37.85</td>\n",
       "      <td>52.0</td>\n",
       "      <td>919.0</td>\n",
       "      <td>213.0</td>\n",
       "      <td>413.0</td>\n",
       "      <td>193.0</td>\n",
       "      <td>4.0368</td>\n",
       "      <td>269700.0</td>\n",
       "      <td>0</td>\n",
       "    </tr>\n",
       "  </tbody>\n",
       "</table>\n",
       "</div>"
      ],
      "text/plain": [
       "   longitude  latitude  housing_median_age  total_rooms  total_bedrooms  \\\n",
       "0    -122.22     37.86                21.0       7099.0          1106.0   \n",
       "1    -122.24     37.85                52.0       1467.0           190.0   \n",
       "2    -122.25     37.85                52.0       1274.0           235.0   \n",
       "3    -122.25     37.85                52.0       1627.0           280.0   \n",
       "4    -122.25     37.85                52.0        919.0           213.0   \n",
       "\n",
       "   population  households  median_income  median_house_value  ocean_proximity  \n",
       "0      2401.0      1138.0         8.3014            358500.0                0  \n",
       "1       496.0       177.0         7.2574            352100.0                0  \n",
       "2       558.0       219.0         5.6431            341300.0                0  \n",
       "3       565.0       259.0         3.8462            342200.0                0  \n",
       "4       413.0       193.0         4.0368            269700.0                0  "
      ]
     },
     "metadata": {},
     "output_type": "display_data"
    },
    {
     "name": "stdout",
     "output_type": "stream",
     "text": [
      "Precision = 1.0\n",
      "Recall = 0.8007303077725613\n",
      "Accuracy = 0.8007303077725613\n",
      "F1 = 0.8893395133256082\n"
     ]
    },
    {
     "data": {
      "image/png": "[encoded data removed]",
      "text/plain": [
       "<Figure size 432x288 with 2 Axes>"
      ]
     },
     "metadata": {
      "needs_background": "light"
     },
     "output_type": "display_data"
    }
   ],
   "source": [
    "#HS DATASET\n",
    "dataset = \"hs.csv\"\n",
    "raw = pd.read_csv(path + dataset, header=0, skiprows=[1])\n",
    "m = {'NEAR BAY':0,'<1H OCEAN':1,'INLAND':2,'NEAR OCEAN':3,'ISLAND':4}\n",
    "raw = raw.replace({'ocean_proximity':m})\n",
    "display(raw.head(5))\n",
    "\n",
    "y = raw[\"ocean_proximity\"].to_numpy()\n",
    "raw.drop([\"ocean_proximity\"],inplace=True,axis=1)\n",
    "X = raw.to_numpy()\n",
    "\n",
    "LeferradOSELM(50,X,y)"
   ]
  },
  {
   "cell_type": "code",
   "execution_count": 11,
   "id": "8c56d30b-099c-471b-8b9e-02196234429d",
   "metadata": {},
   "outputs": [
    {
     "name": "stdout",
     "output_type": "stream",
     "text": [
      "Precision = 1.0\n",
      "Recall = 0.6428571428571429\n",
      "Accuracy = 0.7058823529411765\n",
      "F1 = 0.782608695652174\n"
     ]
    },
    {
     "data": {
      "image/png": "[encoded data removed]",
      "text/plain": [
       "<Figure size 432x288 with 2 Axes>"
      ]
     },
     "metadata": {
      "needs_background": "light"
     },
     "output_type": "display_data"
    }
   ],
   "source": [
    "#POKEMON DATASET \n",
    "\n",
    "data = pd.read_csv('../datasets/Pokemon.csv')\n",
    "data = data.set_index(\"#\")\n",
    "\n",
    "d = {}\n",
    "for i in range(len(data[\"Type 2\"].unique())):\n",
    "  d[data[\"Type 2\"].unique()[i]] = i + 1\n",
    "data = data.drop(columns = [\"Name\"])\n",
    "data = data.fillna(0)\n",
    "data[\"Type 2\"] = data[\"Type 2\"].replace(d)\n",
    "\n",
    "\n",
    "data_balanced = data[(data[\"Type 1\"] == \"Water\") | (data[\"Type 1\"] == \"Normal\") | (data[\"Type 1\"] == \"Grass\")]\n",
    "\n",
    "X = data_balanced.values[:,1:]\n",
    "y = data_balanced.values[:,0]\n",
    "\n",
    "LeferradOSELM(50,X,y)"
   ]
  }
 ],
 "metadata": {
  "kernelspec": {
   "display_name": "Python 3",
   "language": "python",
   "name": "python3"
  },
  "language_info": {
   "codemirror_mode": {
    "name": "ipython",
    "version": 3
   },
   "file_extension": ".py",
   "mimetype": "text/x-python",
   "name": "python",
   "nbconvert_exporter": "python",
   "pygments_lexer": "ipython3",
   "version": "3.9.4"
  }
 },
 "nbformat": 4,
 "nbformat_minor": 5
}
